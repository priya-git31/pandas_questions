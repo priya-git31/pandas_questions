{
 "cells": [
  {
   "cell_type": "code",
   "execution_count": 8,
   "id": "93cbff19",
   "metadata": {},
   "outputs": [
    {
     "data": {
      "text/html": [
       "<div>\n",
       "<style scoped>\n",
       "    .dataframe tbody tr th:only-of-type {\n",
       "        vertical-align: middle;\n",
       "    }\n",
       "\n",
       "    .dataframe tbody tr th {\n",
       "        vertical-align: top;\n",
       "    }\n",
       "\n",
       "    .dataframe thead th {\n",
       "        text-align: right;\n",
       "    }\n",
       "</style>\n",
       "<table border=\"1\" class=\"dataframe\">\n",
       "  <thead>\n",
       "    <tr style=\"text-align: right;\">\n",
       "      <th></th>\n",
       "      <th>Coffee_Shop_Name</th>\n",
       "      <th>Location</th>\n",
       "      <th>Rating_out_of_5</th>\n",
       "      <th>Visitors_per_day</th>\n",
       "    </tr>\n",
       "  </thead>\n",
       "  <tbody>\n",
       "    <tr>\n",
       "      <th>0</th>\n",
       "      <td>HollyBrew</td>\n",
       "      <td>Hollywood</td>\n",
       "      <td>4.5</td>\n",
       "      <td>320</td>\n",
       "    </tr>\n",
       "    <tr>\n",
       "      <th>1</th>\n",
       "      <td>Diego Drip</td>\n",
       "      <td>San Diego</td>\n",
       "      <td>4.1</td>\n",
       "      <td>290</td>\n",
       "    </tr>\n",
       "    <tr>\n",
       "      <th>2</th>\n",
       "      <td>NY Espresso</td>\n",
       "      <td>New York</td>\n",
       "      <td>4.0</td>\n",
       "      <td>500</td>\n",
       "    </tr>\n",
       "    <tr>\n",
       "      <th>3</th>\n",
       "      <td>Holly Beans</td>\n",
       "      <td>Hollywood</td>\n",
       "      <td>4.7</td>\n",
       "      <td>330</td>\n",
       "    </tr>\n",
       "    <tr>\n",
       "      <th>4</th>\n",
       "      <td>Diego Morning</td>\n",
       "      <td>San Diego</td>\n",
       "      <td>4.3</td>\n",
       "      <td>280</td>\n",
       "    </tr>\n",
       "    <tr>\n",
       "      <th>5</th>\n",
       "      <td>NY Caffeine</td>\n",
       "      <td>New York</td>\n",
       "      <td>4.4</td>\n",
       "      <td>520</td>\n",
       "    </tr>\n",
       "    <tr>\n",
       "      <th>6</th>\n",
       "      <td>Diego Delight</td>\n",
       "      <td>San Diego</td>\n",
       "      <td>4.2</td>\n",
       "      <td>270</td>\n",
       "    </tr>\n",
       "  </tbody>\n",
       "</table>\n",
       "</div>"
      ],
      "text/plain": [
       "  Coffee_Shop_Name   Location  Rating_out_of_5  Visitors_per_day\n",
       "0        HollyBrew  Hollywood              4.5               320\n",
       "1       Diego Drip  San Diego              4.1               290\n",
       "2      NY Espresso   New York              4.0               500\n",
       "3      Holly Beans  Hollywood              4.7               330\n",
       "4    Diego Morning  San Diego              4.3               280\n",
       "5      NY Caffeine   New York              4.4               520\n",
       "6    Diego Delight  San Diego              4.2               270"
      ]
     },
     "execution_count": 8,
     "metadata": {},
     "output_type": "execute_result"
    }
   ],
   "source": [
    "import pandas as pd\n",
    "\n",
    "data = {\n",
    "'Coffee_Shop_Name': ['HollyBrew', 'Diego Drip', 'NY Espresso', 'Holly Beans', 'Diego Morning', 'NY Caffeine', 'Diego Delight'],\n",
    "'Location': ['Hollywood', 'San Diego', 'New York', 'Hollywood', 'San Diego', 'New York', 'San Diego'],\n",
    "'Rating_out_of_5': [4.5, 4.1, 4.0, 4.7, 4.3, 4.4, 4.2],\n",
    "'Visitors_per_day': [320, 290, 500, 330, 280, 520, 270]\n",
    "}\n",
    "\n",
    "coffee_shops_df = pd.DataFrame(data)\n",
    "coffee_shops_df"
   ]
  },
  {
   "cell_type": "code",
   "execution_count": null,
   "id": "261750a2",
   "metadata": {},
   "outputs": [],
   "source": [
    "# Retrieve all the rows for coffee shops located in \"Hollywood\".\n",
    "# Change the rating of \"Diego Drip\" to 5.0 using the loc method.\n",
    "# Select the 'Rating_out_of_5' for the coffee shop named \"NY Espresso\".\n",
    "# Get the 'Visitors_per_day' values for coffee shops that have a rating greater than 4.2.\n",
    "# Update the 'Location' of \"NY Caffeine\" to \"Brooklyn\".\n",
    "# Find the 'Rating_out_of_5' for coffee shops named \"Diego Brew\" and \"Holly Coffee\"."
   ]
  },
  {
   "cell_type": "code",
   "execution_count": 89,
   "id": "379f3eb1",
   "metadata": {},
   "outputs": [
    {
     "ename": "NameError",
     "evalue": "name 'Coffee_Shop_Name' is not defined",
     "output_type": "error",
     "traceback": [
      "\u001b[0;31m---------------------------------------------------------------------------\u001b[0m",
      "\u001b[0;31mNameError\u001b[0m                                 Traceback (most recent call last)",
      "Cell \u001b[0;32mIn[89], line 1\u001b[0m\n\u001b[0;32m----> 1\u001b[0m coffee_shops_df\u001b[38;5;241m.\u001b[39mloc[coffee_shops_df[Coffee_Shop_Name] \u001b[38;5;241m==\u001b[39m [\u001b[38;5;124m'\u001b[39m\u001b[38;5;124mDiego Brew\u001b[39m\u001b[38;5;124m'\u001b[39m, \u001b[38;5;124m'\u001b[39m\u001b[38;5;124mHolly Coffee\u001b[39m\u001b[38;5;124m'\u001b[39m], \u001b[38;5;124m'\u001b[39m\u001b[38;5;124mRatings_out_of_5\u001b[39m\u001b[38;5;124m'\u001b[39m]\n",
      "\u001b[0;31mNameError\u001b[0m: name 'Coffee_Shop_Name' is not defined"
     ]
    }
   ],
   "source": [
    "coffee_shops_df.loc[coffee_shops_df[Coffee_Shop_Name] == ['Diego Brew', 'Holly Coffee'], 'Ratings_out_of_5']"
   ]
  },
  {
   "cell_type": "code",
   "execution_count": 88,
   "id": "490383b4",
   "metadata": {},
   "outputs": [
    {
     "data": {
      "text/html": [
       "<div>\n",
       "<style scoped>\n",
       "    .dataframe tbody tr th:only-of-type {\n",
       "        vertical-align: middle;\n",
       "    }\n",
       "\n",
       "    .dataframe tbody tr th {\n",
       "        vertical-align: top;\n",
       "    }\n",
       "\n",
       "    .dataframe thead th {\n",
       "        text-align: right;\n",
       "    }\n",
       "</style>\n",
       "<table border=\"1\" class=\"dataframe\">\n",
       "  <thead>\n",
       "    <tr style=\"text-align: right;\">\n",
       "      <th></th>\n",
       "      <th>Coffee_Shop_Name</th>\n",
       "      <th>Location</th>\n",
       "      <th>Rating_out_of_5</th>\n",
       "      <th>Visitors_per_day</th>\n",
       "    </tr>\n",
       "  </thead>\n",
       "  <tbody>\n",
       "    <tr>\n",
       "      <th>0</th>\n",
       "      <td>HollyBrew</td>\n",
       "      <td>Hollywood</td>\n",
       "      <td>4.5</td>\n",
       "      <td>320</td>\n",
       "    </tr>\n",
       "    <tr>\n",
       "      <th>3</th>\n",
       "      <td>Holly Beans</td>\n",
       "      <td>Hollywood</td>\n",
       "      <td>4.7</td>\n",
       "      <td>330</td>\n",
       "    </tr>\n",
       "  </tbody>\n",
       "</table>\n",
       "</div>"
      ],
      "text/plain": [
       "  Coffee_Shop_Name   Location  Rating_out_of_5  Visitors_per_day\n",
       "0        HollyBrew  Hollywood              4.5               320\n",
       "3      Holly Beans  Hollywood              4.7               330"
      ]
     },
     "execution_count": 88,
     "metadata": {},
     "output_type": "execute_result"
    }
   ],
   "source": [
    "coffee_shops_df.loc[coffee_shops_df['Location'] == 'Hollywood', :]"
   ]
  },
  {
   "cell_type": "code",
   "execution_count": 98,
   "id": "e3a3c561",
   "metadata": {},
   "outputs": [
    {
     "name": "stdout",
     "output_type": "stream",
     "text": [
      "  Coffee_Shop_Name  Rating_out_of_5\n",
      "0        HollyBrew              4.5\n",
      "1       Diego Drip              5.0\n"
     ]
    }
   ],
   "source": [
    "result = coffee_shops_df.loc[coffee_shops_df['Coffee_Shop_Name'].isin(['Diego Drip', 'HollyBrew']), ['Coffee_Shop_Name', 'Rating_out_of_5']]\n",
    "print(result)\n"
   ]
  },
  {
   "cell_type": "code",
   "execution_count": 71,
   "id": "8b4b688e",
   "metadata": {},
   "outputs": [
    {
     "data": {
      "text/plain": [
       "0    320\n",
       "1    290\n",
       "3    330\n",
       "4    280\n",
       "5    520\n",
       "Name: Visitors_per_day, dtype: int64"
      ]
     },
     "execution_count": 71,
     "metadata": {},
     "output_type": "execute_result"
    }
   ],
   "source": [
    "coffee_shops_df.loc[coffee_shops_df['Rating_out_of_5'] > 4.2, 'Visitors_per_day']"
   ]
  },
  {
   "cell_type": "code",
   "execution_count": 79,
   "id": "19e9a934",
   "metadata": {},
   "outputs": [
    {
     "name": "stdout",
     "output_type": "stream",
     "text": [
      "  Coffee_Shop_Name   Location  Rating_out_of_5  Visitors_per_day\n",
      "0        HollyBrew  Hollywood              4.5               320\n",
      "1       Diego Drip  San Diego              5.0               290\n",
      "2      NY Espresso   New York              4.0               500\n",
      "3      Holly Beans  Hollywood              4.7               330\n",
      "4    Diego Morning  San Diego              4.3               280\n",
      "5      NY Caffeine   Brooklyn              4.4               520\n",
      "6    Diego Delight  San Diego              4.2               270\n"
     ]
    }
   ],
   "source": [
    "coffee_shops_df.loc[coffee_shops_df['Coffee_Shop_Name'] == 'NY Caffeine', 'Location'] = 'Brooklyn'\n",
    "print(coffee_shops_df)\n",
    "\n"
   ]
  },
  {
   "cell_type": "code",
   "execution_count": 75,
   "id": "26a36b59",
   "metadata": {},
   "outputs": [
    {
     "data": {
      "text/html": [
       "<div>\n",
       "<style scoped>\n",
       "    .dataframe tbody tr th:only-of-type {\n",
       "        vertical-align: middle;\n",
       "    }\n",
       "\n",
       "    .dataframe tbody tr th {\n",
       "        vertical-align: top;\n",
       "    }\n",
       "\n",
       "    .dataframe thead th {\n",
       "        text-align: right;\n",
       "    }\n",
       "</style>\n",
       "<table border=\"1\" class=\"dataframe\">\n",
       "  <thead>\n",
       "    <tr style=\"text-align: right;\">\n",
       "      <th></th>\n",
       "      <th>Coffee_Shop_Name</th>\n",
       "      <th>Location</th>\n",
       "      <th>Rating_out_of_5</th>\n",
       "      <th>Visitors_per_day</th>\n",
       "    </tr>\n",
       "  </thead>\n",
       "  <tbody>\n",
       "    <tr>\n",
       "      <th>0</th>\n",
       "      <td>HollyBrew</td>\n",
       "      <td>Hollywood</td>\n",
       "      <td>4.5</td>\n",
       "      <td>320</td>\n",
       "    </tr>\n",
       "    <tr>\n",
       "      <th>3</th>\n",
       "      <td>Holly Beans</td>\n",
       "      <td>Hollywood</td>\n",
       "      <td>4.7</td>\n",
       "      <td>330</td>\n",
       "    </tr>\n",
       "  </tbody>\n",
       "</table>\n",
       "</div>"
      ],
      "text/plain": [
       "  Coffee_Shop_Name   Location  Rating_out_of_5  Visitors_per_day\n",
       "0        HollyBrew  Hollywood              4.5               320\n",
       "3      Holly Beans  Hollywood              4.7               330"
      ]
     },
     "execution_count": 75,
     "metadata": {},
     "output_type": "execute_result"
    }
   ],
   "source": [
    "coffee_shops_df.loc[coffee_shops_df['Location'] == 'Hollywood']"
   ]
  },
  {
   "cell_type": "code",
   "execution_count": null,
   "id": "506cb0f8",
   "metadata": {},
   "outputs": [],
   "source": []
  },
  {
   "cell_type": "code",
   "execution_count": null,
   "id": "06419b96",
   "metadata": {},
   "outputs": [],
   "source": []
  },
  {
   "cell_type": "code",
   "execution_count": null,
   "id": "6ff320c7",
   "metadata": {},
   "outputs": [],
   "source": []
  },
  {
   "cell_type": "code",
   "execution_count": null,
   "id": "76556d70",
   "metadata": {},
   "outputs": [],
   "source": []
  },
  {
   "cell_type": "code",
   "execution_count": 49,
   "id": "7a4b8823",
   "metadata": {},
   "outputs": [],
   "source": [
    "coffee_shops_df.loc[coffee_shops_df['Coffee_Shop_Name'] == 'Deigo Drip', 'Rating_out_of_5'] = 5.0\n"
   ]
  },
  {
   "cell_type": "code",
   "execution_count": 51,
   "id": "95721c49",
   "metadata": {},
   "outputs": [
    {
     "data": {
      "text/plain": [
       "2    4.0\n",
       "Name: Rating_out_of_5, dtype: float64"
      ]
     },
     "execution_count": 51,
     "metadata": {},
     "output_type": "execute_result"
    }
   ],
   "source": [
    "coffee_shops_df.loc[coffee_shops_df['Coffee_Shop_Name'] == 'NY Espresso', 'Rating_out_of_5']\n"
   ]
  },
  {
   "cell_type": "code",
   "execution_count": 53,
   "id": "48fcba89",
   "metadata": {},
   "outputs": [
    {
     "data": {
      "text/plain": [
       "0    320\n",
       "1    290\n",
       "3    330\n",
       "4    280\n",
       "5    520\n",
       "Name: Visitors_per_day, dtype: int64"
      ]
     },
     "execution_count": 53,
     "metadata": {},
     "output_type": "execute_result"
    }
   ],
   "source": [
    "coffee_shops_df.loc[coffee_shops_df['Rating_out_of_5'] > 4.2, 'Visitors_per_day']"
   ]
  },
  {
   "cell_type": "code",
   "execution_count": 62,
   "id": "59983c49",
   "metadata": {},
   "outputs": [],
   "source": [
    "coffee_shops_df.loc[coffee_shops_df['Coffee_Shop_Name'] == 'NY Caffeine', 'Location'] = 'Brooklyn'"
   ]
  },
  {
   "cell_type": "code",
   "execution_count": 61,
   "id": "a994d0b0",
   "metadata": {},
   "outputs": [
    {
     "name": "stdout",
     "output_type": "stream",
     "text": [
      "  Coffee_Shop_Name   Location  Rating_out_of_5  Visitors_per_day\n",
      "0        HollyBrew  Hollywood              4.5               320\n",
      "1       Diego Drip  San Diego              5.0               290\n",
      "2      NY Espresso   New York              4.0               500\n",
      "3      Holly Beans  Hollywood              4.7               330\n",
      "4    Diego Morning  San Diego              4.3               280\n",
      "5      NY Caffeine   Brooklyn              4.4               520\n",
      "6    Diego Delight  San Diego              4.2               270\n"
     ]
    }
   ],
   "source": [
    "coffee_shops_df.loc[coffee_shops_df['Coffee_Shop_Name'] == 'NY Caffeine', 'Location'] = 'Brooklyn'\n",
    "print(coffee_shops_df)"
   ]
  },
  {
   "cell_type": "code",
   "execution_count": null,
   "id": "f58d652d",
   "metadata": {},
   "outputs": [],
   "source": []
  },
  {
   "cell_type": "code",
   "execution_count": null,
   "id": "2f067763",
   "metadata": {},
   "outputs": [],
   "source": []
  }
 ],
 "metadata": {
  "kernelspec": {
   "display_name": "Python 3 (ipykernel)",
   "language": "python",
   "name": "python3"
  },
  "language_info": {
   "codemirror_mode": {
    "name": "ipython",
    "version": 3
   },
   "file_extension": ".py",
   "mimetype": "text/x-python",
   "name": "python",
   "nbconvert_exporter": "python",
   "pygments_lexer": "ipython3",
   "version": "3.11.5"
  }
 },
 "nbformat": 4,
 "nbformat_minor": 5
}
