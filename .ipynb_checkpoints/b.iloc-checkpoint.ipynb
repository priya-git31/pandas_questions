{
 "cells": [
  {
   "cell_type": "code",
   "execution_count": 1,
   "id": "1b577671",
   "metadata": {},
   "outputs": [
    {
     "data": {
      "text/html": [
       "<div>\n",
       "<style scoped>\n",
       "    .dataframe tbody tr th:only-of-type {\n",
       "        vertical-align: middle;\n",
       "    }\n",
       "\n",
       "    .dataframe tbody tr th {\n",
       "        vertical-align: top;\n",
       "    }\n",
       "\n",
       "    .dataframe thead th {\n",
       "        text-align: right;\n",
       "    }\n",
       "</style>\n",
       "<table border=\"1\" class=\"dataframe\">\n",
       "  <thead>\n",
       "    <tr style=\"text-align: right;\">\n",
       "      <th></th>\n",
       "      <th>Coffee_Shop_Name</th>\n",
       "      <th>Location</th>\n",
       "      <th>Rating_out_of_5</th>\n",
       "      <th>Visitors_per_day</th>\n",
       "    </tr>\n",
       "  </thead>\n",
       "  <tbody>\n",
       "    <tr>\n",
       "      <th>0</th>\n",
       "      <td>HollyBrew</td>\n",
       "      <td>Hollywood</td>\n",
       "      <td>4.5</td>\n",
       "      <td>320</td>\n",
       "    </tr>\n",
       "    <tr>\n",
       "      <th>1</th>\n",
       "      <td>Diego Drip</td>\n",
       "      <td>San Diego</td>\n",
       "      <td>4.1</td>\n",
       "      <td>290</td>\n",
       "    </tr>\n",
       "    <tr>\n",
       "      <th>2</th>\n",
       "      <td>NY Espresso</td>\n",
       "      <td>New York</td>\n",
       "      <td>4.0</td>\n",
       "      <td>500</td>\n",
       "    </tr>\n",
       "    <tr>\n",
       "      <th>3</th>\n",
       "      <td>Holly Beans</td>\n",
       "      <td>Hollywood</td>\n",
       "      <td>4.7</td>\n",
       "      <td>330</td>\n",
       "    </tr>\n",
       "    <tr>\n",
       "      <th>4</th>\n",
       "      <td>Diego Morning</td>\n",
       "      <td>San Diego</td>\n",
       "      <td>4.3</td>\n",
       "      <td>280</td>\n",
       "    </tr>\n",
       "    <tr>\n",
       "      <th>5</th>\n",
       "      <td>NY Caffeine</td>\n",
       "      <td>New York</td>\n",
       "      <td>4.4</td>\n",
       "      <td>520</td>\n",
       "    </tr>\n",
       "    <tr>\n",
       "      <th>6</th>\n",
       "      <td>Diego Delight</td>\n",
       "      <td>San Diego</td>\n",
       "      <td>4.2</td>\n",
       "      <td>270</td>\n",
       "    </tr>\n",
       "  </tbody>\n",
       "</table>\n",
       "</div>"
      ],
      "text/plain": [
       "  Coffee_Shop_Name   Location  Rating_out_of_5  Visitors_per_day\n",
       "0        HollyBrew  Hollywood              4.5               320\n",
       "1       Diego Drip  San Diego              4.1               290\n",
       "2      NY Espresso   New York              4.0               500\n",
       "3      Holly Beans  Hollywood              4.7               330\n",
       "4    Diego Morning  San Diego              4.3               280\n",
       "5      NY Caffeine   New York              4.4               520\n",
       "6    Diego Delight  San Diego              4.2               270"
      ]
     },
     "execution_count": 1,
     "metadata": {},
     "output_type": "execute_result"
    }
   ],
   "source": [
    "import pandas as pd\n",
    "\n",
    "data = {\n",
    "'Coffee_Shop_Name': ['HollyBrew', 'Diego Drip', 'NY Espresso', 'Holly Beans', 'Diego Morning', 'NY Caffeine', 'Diego Delight'],\n",
    "'Location': ['Hollywood', 'San Diego', 'New York', 'Hollywood', 'San Diego', 'New York', 'San Diego'],\n",
    "'Rating_out_of_5': [4.5, 4.1, 4.0, 4.7, 4.3, 4.4, 4.2],\n",
    "'Visitors_per_day': [320, 290, 500, 330, 280, 520, 270]\n",
    "}\n",
    "\n",
    "coffee_shops_df = pd.DataFrame(data)\n",
    "coffee_shops_df"
   ]
  },
  {
   "cell_type": "code",
   "execution_count": null,
   "id": "419e9227",
   "metadata": {},
   "outputs": [],
   "source": [
    "# Get the details of the first coffee shop in the DataFrame.\n",
    "# Retrieve the names and ratings of the first three coffee shops.\n",
    "# Extract the ratings for the last two coffee shops.\n",
    "# Update the 'Visitors_per_day' for the third coffee shop to 505 using iloc.\n",
    "# Fetch the details for coffee shops at even indices.\n",
    "# Extract the names of the last three coffee shops in the DataFrame."
   ]
  },
  {
   "cell_type": "code",
   "execution_count": 4,
   "id": "bad00968",
   "metadata": {},
   "outputs": [
    {
     "data": {
      "text/plain": [
       "Coffee_Shop_Name    HollyBrew\n",
       "Location            Hollywood\n",
       "Rating_out_of_5           4.5\n",
       "Visitors_per_day          320\n",
       "Name: 0, dtype: object"
      ]
     },
     "execution_count": 4,
     "metadata": {},
     "output_type": "execute_result"
    }
   ],
   "source": [
    "coffee_shops_df.iloc[0]"
   ]
  },
  {
   "cell_type": "code",
   "execution_count": 9,
   "id": "5f495938",
   "metadata": {},
   "outputs": [
    {
     "data": {
      "text/html": [
       "<div>\n",
       "<style scoped>\n",
       "    .dataframe tbody tr th:only-of-type {\n",
       "        vertical-align: middle;\n",
       "    }\n",
       "\n",
       "    .dataframe tbody tr th {\n",
       "        vertical-align: top;\n",
       "    }\n",
       "\n",
       "    .dataframe thead th {\n",
       "        text-align: right;\n",
       "    }\n",
       "</style>\n",
       "<table border=\"1\" class=\"dataframe\">\n",
       "  <thead>\n",
       "    <tr style=\"text-align: right;\">\n",
       "      <th></th>\n",
       "      <th>Coffee_Shop_Name</th>\n",
       "      <th>Rating_out_of_5</th>\n",
       "    </tr>\n",
       "  </thead>\n",
       "  <tbody>\n",
       "    <tr>\n",
       "      <th>0</th>\n",
       "      <td>HollyBrew</td>\n",
       "      <td>4.5</td>\n",
       "    </tr>\n",
       "    <tr>\n",
       "      <th>1</th>\n",
       "      <td>Diego Drip</td>\n",
       "      <td>4.1</td>\n",
       "    </tr>\n",
       "    <tr>\n",
       "      <th>2</th>\n",
       "      <td>NY Espresso</td>\n",
       "      <td>4.0</td>\n",
       "    </tr>\n",
       "  </tbody>\n",
       "</table>\n",
       "</div>"
      ],
      "text/plain": [
       "  Coffee_Shop_Name  Rating_out_of_5\n",
       "0        HollyBrew              4.5\n",
       "1       Diego Drip              4.1\n",
       "2      NY Espresso              4.0"
      ]
     },
     "execution_count": 9,
     "metadata": {},
     "output_type": "execute_result"
    }
   ],
   "source": [
    "coffee_shops_df.iloc[[0,1,2],[0,2]]"
   ]
  },
  {
   "cell_type": "code",
   "execution_count": 10,
   "id": "f9d118dd",
   "metadata": {},
   "outputs": [
    {
     "data": {
      "text/html": [
       "<div>\n",
       "<style scoped>\n",
       "    .dataframe tbody tr th:only-of-type {\n",
       "        vertical-align: middle;\n",
       "    }\n",
       "\n",
       "    .dataframe tbody tr th {\n",
       "        vertical-align: top;\n",
       "    }\n",
       "\n",
       "    .dataframe thead th {\n",
       "        text-align: right;\n",
       "    }\n",
       "</style>\n",
       "<table border=\"1\" class=\"dataframe\">\n",
       "  <thead>\n",
       "    <tr style=\"text-align: right;\">\n",
       "      <th></th>\n",
       "      <th>Rating_out_of_5</th>\n",
       "    </tr>\n",
       "  </thead>\n",
       "  <tbody>\n",
       "    <tr>\n",
       "      <th>4</th>\n",
       "      <td>4.3</td>\n",
       "    </tr>\n",
       "    <tr>\n",
       "      <th>5</th>\n",
       "      <td>4.4</td>\n",
       "    </tr>\n",
       "  </tbody>\n",
       "</table>\n",
       "</div>"
      ],
      "text/plain": [
       "   Rating_out_of_5\n",
       "4              4.3\n",
       "5              4.4"
      ]
     },
     "execution_count": 10,
     "metadata": {},
     "output_type": "execute_result"
    }
   ],
   "source": [
    "coffee_shops_df.iloc[[4,5], [2]]"
   ]
  },
  {
   "cell_type": "code",
   "execution_count": 11,
   "id": "1cf20238",
   "metadata": {},
   "outputs": [
    {
     "data": {
      "text/html": [
       "<div>\n",
       "<style scoped>\n",
       "    .dataframe tbody tr th:only-of-type {\n",
       "        vertical-align: middle;\n",
       "    }\n",
       "\n",
       "    .dataframe tbody tr th {\n",
       "        vertical-align: top;\n",
       "    }\n",
       "\n",
       "    .dataframe thead th {\n",
       "        text-align: right;\n",
       "    }\n",
       "</style>\n",
       "<table border=\"1\" class=\"dataframe\">\n",
       "  <thead>\n",
       "    <tr style=\"text-align: right;\">\n",
       "      <th></th>\n",
       "      <th>Coffee_Shop_Name</th>\n",
       "      <th>Location</th>\n",
       "      <th>Rating_out_of_5</th>\n",
       "      <th>Visitors_per_day</th>\n",
       "    </tr>\n",
       "  </thead>\n",
       "  <tbody>\n",
       "    <tr>\n",
       "      <th>0</th>\n",
       "      <td>HollyBrew</td>\n",
       "      <td>Hollywood</td>\n",
       "      <td>4.5</td>\n",
       "      <td>320</td>\n",
       "    </tr>\n",
       "    <tr>\n",
       "      <th>2</th>\n",
       "      <td>NY Espresso</td>\n",
       "      <td>New York</td>\n",
       "      <td>4.0</td>\n",
       "      <td>500</td>\n",
       "    </tr>\n",
       "    <tr>\n",
       "      <th>4</th>\n",
       "      <td>Diego Morning</td>\n",
       "      <td>San Diego</td>\n",
       "      <td>4.3</td>\n",
       "      <td>280</td>\n",
       "    </tr>\n",
       "    <tr>\n",
       "      <th>6</th>\n",
       "      <td>Diego Delight</td>\n",
       "      <td>San Diego</td>\n",
       "      <td>4.2</td>\n",
       "      <td>270</td>\n",
       "    </tr>\n",
       "  </tbody>\n",
       "</table>\n",
       "</div>"
      ],
      "text/plain": [
       "  Coffee_Shop_Name   Location  Rating_out_of_5  Visitors_per_day\n",
       "0        HollyBrew  Hollywood              4.5               320\n",
       "2      NY Espresso   New York              4.0               500\n",
       "4    Diego Morning  San Diego              4.3               280\n",
       "6    Diego Delight  San Diego              4.2               270"
      ]
     },
     "execution_count": 11,
     "metadata": {},
     "output_type": "execute_result"
    }
   ],
   "source": [
    "coffee_shops_df.iloc[[0,2,4,6]]"
   ]
  },
  {
   "cell_type": "code",
   "execution_count": 12,
   "id": "3c43bb79",
   "metadata": {},
   "outputs": [
    {
     "data": {
      "text/html": [
       "<div>\n",
       "<style scoped>\n",
       "    .dataframe tbody tr th:only-of-type {\n",
       "        vertical-align: middle;\n",
       "    }\n",
       "\n",
       "    .dataframe tbody tr th {\n",
       "        vertical-align: top;\n",
       "    }\n",
       "\n",
       "    .dataframe thead th {\n",
       "        text-align: right;\n",
       "    }\n",
       "</style>\n",
       "<table border=\"1\" class=\"dataframe\">\n",
       "  <thead>\n",
       "    <tr style=\"text-align: right;\">\n",
       "      <th></th>\n",
       "      <th>Coffee_Shop_Name</th>\n",
       "    </tr>\n",
       "  </thead>\n",
       "  <tbody>\n",
       "    <tr>\n",
       "      <th>3</th>\n",
       "      <td>Holly Beans</td>\n",
       "    </tr>\n",
       "    <tr>\n",
       "      <th>4</th>\n",
       "      <td>Diego Morning</td>\n",
       "    </tr>\n",
       "    <tr>\n",
       "      <th>5</th>\n",
       "      <td>NY Caffeine</td>\n",
       "    </tr>\n",
       "  </tbody>\n",
       "</table>\n",
       "</div>"
      ],
      "text/plain": [
       "  Coffee_Shop_Name\n",
       "3      Holly Beans\n",
       "4    Diego Morning\n",
       "5      NY Caffeine"
      ]
     },
     "execution_count": 12,
     "metadata": {},
     "output_type": "execute_result"
    }
   ],
   "source": [
    "coffee_shops_df.iloc[[3,4,5],[0]]"
   ]
  },
  {
   "cell_type": "code",
   "execution_count": null,
   "id": "db4a6670",
   "metadata": {},
   "outputs": [],
   "source": []
  },
  {
   "cell_type": "code",
   "execution_count": null,
   "id": "c5eb2073",
   "metadata": {},
   "outputs": [],
   "source": []
  }
 ],
 "metadata": {
  "kernelspec": {
   "display_name": "Python 3 (ipykernel)",
   "language": "python",
   "name": "python3"
  },
  "language_info": {
   "codemirror_mode": {
    "name": "ipython",
    "version": 3
   },
   "file_extension": ".py",
   "mimetype": "text/x-python",
   "name": "python",
   "nbconvert_exporter": "python",
   "pygments_lexer": "ipython3",
   "version": "3.11.5"
  }
 },
 "nbformat": 4,
 "nbformat_minor": 5
}
